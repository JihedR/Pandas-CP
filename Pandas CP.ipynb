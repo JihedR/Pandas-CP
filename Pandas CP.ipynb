{
 "cells": [
  {
   "cell_type": "code",
   "execution_count": 2,
   "id": "ac067f8d",
   "metadata": {},
   "outputs": [],
   "source": [
    "import pandas as pd\n",
    "import numpy as np"
   ]
  },
  {
   "cell_type": "code",
   "execution_count": 16,
   "id": "ff89d499",
   "metadata": {},
   "outputs": [],
   "source": [
    "exam_data = {'name': ['Anastasia', 'Dima', 'Katherine', 'James', 'Emily', 'Michael', 'Matthew', 'Laura', 'Kevin', 'Jonas'],\n",
    "'score': [12.5, 9, 16.5, np.nan, 9, 20, 14.5, np.nan, 8, 19],\n",
    "'attempts': [1, 3, 2, 3, 2, 3, 1, 1, 2, 1],\n",
    "'qualify': ['yes', 'no', 'yes', 'no', 'no', 'yes', 'yes', 'no', 'no', 'yes']}\n",
    "labels = ['a', 'b', 'c', 'd', 'e', 'f', 'g', 'h', 'i', 'j']\n",
    "\n",
    "df = pd.DataFrame(exam_data)\n",
    "\n",
    "#1\n",
    "print(df.head(3))\n",
    "\n",
    "#2\n",
    "df=df.drop([3, 7])\n",
    "\n",
    "#3\n",
    "ns=df.iloc[:,0:2]\n",
    "\n",
    "#4\n",
    "k={\n",
    "    'name': \"Suresh\",\n",
    "    'score': 15.5, \n",
    "    'attempts': 1, \n",
    "    'qualify': \"yes\"\n",
    "}\n",
    "\n",
    "dfk = pd.DataFrame(k, index=[len(exam_data['name'])])\n",
    "df=pd.concat([df,dfk])\n",
    "df\n",
    "\n",
    "#5\n",
    "df=df.drop(columns='attempts')\n",
    "df\n",
    "#6\n",
    "df['success']=0\n",
    "for i in df.index:\n",
    "    if df.loc[i,'score']>=10:\n",
    "        df.loc[i,'success']=1\n",
    "df\n",
    "\n",
    "#7\n",
    "df.to_csv('my_data')"
   ]
  },
  {
   "cell_type": "code",
   "execution_count": null,
   "id": "51b3c008",
   "metadata": {},
   "outputs": [],
   "source": []
  }
 ],
 "metadata": {
  "kernelspec": {
   "display_name": "Python 3",
   "language": "python",
   "name": "python3"
  },
  "language_info": {
   "codemirror_mode": {
    "name": "ipython",
    "version": 3
   },
   "file_extension": ".py",
   "mimetype": "text/x-python",
   "name": "python",
   "nbconvert_exporter": "python",
   "pygments_lexer": "ipython3",
   "version": "3.8.8"
  }
 },
 "nbformat": 4,
 "nbformat_minor": 5
}
